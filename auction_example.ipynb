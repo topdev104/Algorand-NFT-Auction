{
 "cells": [
  {
   "cell_type": "code",
   "execution_count": 1,
   "metadata": {},
   "outputs": [],
   "source": [
    "import os\n",
    "\n",
    "import dotenv\n",
    "\n",
    "from time import time, sleep\n",
    "from algosdk.future import transaction\n",
    "from algosdk.logic import get_application_address\n",
    "\n",
    "from auction.operations import *\n",
    "from store.operations import *\n",
    "from utils import *\n",
    "from account import Account"
   ]
  },
  {
   "cell_type": "code",
   "execution_count": 2,
   "metadata": {},
   "outputs": [
    {
     "name": "stdout",
     "output_type": "stream",
     "text": [
      "STORE_APP_ID 13\n",
      "ALGOD_URL: http://localhost:4001\n",
      "ALGOD_TOKEN: aaaaaaaaaaaaaaaaaaaaaaaaaaaaaaaaaaaaaaaaaaaaaaaaaaaaaaaaaaaaaaaa\n"
     ]
    }
   ],
   "source": [
    "dotenv.load_dotenv('.env')\n",
    "print('STORE_APP_ID', os.environ.get('STORE_APP_ID'))\n",
    "\n",
    "ALGOD_URL = os.environ.get('ALGOD_URL')\n",
    "ALGOD_TOKEN = os.environ.get('ALGOD_TOKEN')\n",
    "print(f\"ALGOD_URL: {ALGOD_URL}\")\n",
    "print(f\"ALGOD_TOKEN: {ALGOD_TOKEN}\")\n",
    "\n",
    "client = get_algod_client(ALGOD_URL, ALGOD_TOKEN)"
   ]
  },
  {
   "cell_type": "code",
   "execution_count": 3,
   "metadata": {},
   "outputs": [
    {
     "name": "stdout",
     "output_type": "stream",
     "text": [
      "Creator address: 4TT75274EBUAF46CITUL6HQQ4C4D3GO7GEOVRZSQZ35VXSGRVHJ376GD64\n",
      "Seller Address: CN4EQ6QXFCDLR2ATDTRJMMFGLXSUS5TMLGLO7FJDBQRQGFUXTUA4LBVEIA\n",
      "Bidder Address: X7PMCPPRD2T35ZZRTPETYK53G5YWBKUNONVDY52WODP3N3YM7NGEF5HGWU\n",
      "Bidder1 Address: LOUBIMVHXMWMJNC4ZBKTIQTGNLF36EIXTEVBD7BUHDMIXKSMKQRNIPMQ6I\n",
      "Bidder2 Address: 742N2DLQ6NUUQXNUTNIJHYXYGL6BWG7C2XSQDHLFJN2NFYDVAYYUAQ36NQ\n"
     ]
    }
   ],
   "source": [
    "creator = Account.from_mnemonic(os.environ.get(\"CREATOR_MN\"))\n",
    "seller = Account.from_mnemonic(os.environ.get(\"SELLER_MN\"))\n",
    "\n",
    "staking_address = Account.from_mnemonic(os.environ.get(\"CREATOR_MN\"))\n",
    "team_wallet_address = Account.from_mnemonic(os.environ.get(\"TEAM_MN\"))\n",
    "\n",
    "bidder = Account.from_mnemonic(os.environ.get(\"BUYER_MN\"))\n",
    "bidder1 = Account.from_mnemonic(os.environ.get(\"BUYER1_MN\"))\n",
    "bidder2 = Account.from_mnemonic(os.environ.get(\"BUYER2_MN\"))\n",
    "\n",
    "print(f\"Creator address: {creator.get_address()}\")\n",
    "print(f\"Seller Address: {seller.get_address()}\")\n",
    "print(f\"Bidder Address: {bidder.get_address()}\")\n",
    "print(f\"Bidder1 Address: {bidder1.get_address()}\")\n",
    "print(f\"Bidder2 Address: {bidder2.get_address()}\")   \n",
    "  \n"
   ]
  },
  {
   "cell_type": "code",
   "execution_count": 6,
   "metadata": {},
   "outputs": [],
   "source": [
    "#seller_info = get_account_info(client, seller.get_address())\n",
    "#print('seller_info', seller_info)"
   ]
  },
  {
   "cell_type": "code",
   "execution_count": 7,
   "metadata": {},
   "outputs": [],
   "source": [
    "deleteApps(client, [], creator)\n",
    "# optoutApps(client, [], seller)\n",
    "# optoutApps(client, [], bidder)\n",
    "# optoutApps(client, [], bidder1)\n",
    "# optoutApps(client, [], bidder2)"
   ]
  },
  {
   "cell_type": "markdown",
   "metadata": {},
   "source": [
    "Alice is generating an example token..."
   ]
  },
  {
   "cell_type": "code",
   "execution_count": 4,
   "metadata": {},
   "outputs": [
    {
     "name": "stdout",
     "output_type": "stream",
     "text": [
      "The token id is: 12\n"
     ]
    }
   ],
   "source": [
    "# def create_dummy_asset(sender: Account, total: int, decimals: int, asset_name: str, unit_name: str):\n",
    "#     txn = transaction.AssetConfigTxn(\n",
    "#         sender=sender.get_address(),\n",
    "#         sp=client.suggested_params(),\n",
    "#         total=total,\n",
    "#         decimals=decimals,\n",
    "#         asset_name=asset_name,\n",
    "#         unit_name=unit_name,\n",
    "#         default_frozen=False,\n",
    "#         strict_empty_address_check=False,\n",
    "#     )\n",
    "#     signed_txn = txn.sign(sender.get_private_key())\n",
    "\n",
    "#     client.send_transaction(signed_txn)\n",
    "\n",
    "#     response = wait_for_confirmation(client, signed_txn.get_txid())\n",
    "#     assert response.asset_index is not None and response.asset_index > 0\n",
    "#     return response.asset_index\n",
    "\n",
    "# asset_id = create_dummy_asset(creator, 1000000000000000000, 3, \"example token\", \"AVT\")\n",
    "\n",
    "asset_id = int(os.environ.get(\"TOKEN_ID\"))\n",
    "print(f\"The token id is: {asset_id}\")\n",
    "#send_asset(client, asset_id, 500000000000000, creator, seller)"
   ]
  },
  {
   "cell_type": "code",
   "execution_count": 5,
   "metadata": {},
   "outputs": [
    {
     "name": "stdout",
     "output_type": "stream",
     "text": [
      "start_time 1647369098\n"
     ]
    }
   ],
   "source": [
    "start_time = int(time()) + 10\n",
    "end_time = start_time + 30\n",
    "print(f\"start_time\", start_time)\n",
    "reserve = 1_000_000  # 1 Algo\n",
    "token_amount = 100\n",
    "increment = 100_000  # 0.1 Algo"
   ]
  },
  {
   "cell_type": "code",
   "execution_count": 5,
   "metadata": {},
   "outputs": [
    {
     "name": "stdout",
     "output_type": "stream",
     "text": [
      "storeAppID 13\n",
      "b'storeApp address' WI7XTCTK42LLU6XD5AWB6L5Q2JF3F2SYI2HMMQD65YMQAATOB75KGAE7PQ\n"
     ]
    }
   ],
   "source": [
    "storeAppID = int(os.environ.get(\"STORE_APP_ID\"))\n",
    "\n",
    "# optout_app(client, storeAppID, seller)\n",
    "# optout_app(client, storeAppID, bidder)\n",
    "# optout_app(client, storeAppID, bidder1)\n",
    "# optout_app(client, storeAppID, bidder2)\n",
    "\n",
    "# storeAppID = create_store_app(client, creator)\n",
    "\n",
    "print(f\"storeAppID\", storeAppID)\n",
    "print(b\"storeApp address\", get_application_address(storeAppID))\n"
   ]
  },
  {
   "cell_type": "markdown",
   "metadata": {},
   "source": [
    "\"Alice is creating auction smart contract that lasts 30 seconds to auction off token...\""
   ]
  },
  {
   "cell_type": "code",
   "execution_count": 6,
   "metadata": {},
   "outputs": [
    {
     "name": "stdout",
     "output_type": "stream",
     "text": [
      "seller address: CN4EQ6QXFCDLR2ATDTRJMMFGLXSUS5TMLGLO7FJDBQRQGFUXTUA4LBVEIA\n",
      "Waiting for confirmation...\n",
      "Transaction 3WKB6NKGN3GOZGYMLV2A4GBFTXDYY244CJVYTXALJ4MXJK2EKBYA confirmed in round 622.\n",
      "Waiting for confirmation...\n",
      "Transaction DYBXY2FDE6B3MRFCIJFZZMYIXTRUUNQFWJ3OV3UQZCOGD4NXOYVQ confirmed in round 624.\n",
      "Auction App ID: 21\n",
      "Auction App Address: 7B3LE7NWSBKLMWHV3GPSMHPR3IXGZV2V5KMCMLAGOMD4R45WOZOAUDF55M\n",
      "Latest time: {b'SA_ADDR': b'\\xe4\\xe7\\xfe\\xeb\\xfc h\\x02\\xf3\\xc2D\\xe8\\xbf\\x1e\\x10\\xe0\\xb8=\\x99\\xdf1\\x1dX\\xe6P\\xce\\xfb[\\xc8\\xd1\\xa9\\xd3', b'SA_ID': 13, b'TW_ADDR': b\"\\xa0\\x81}\\xb3\\xa7\\x97\\xdfk,>8\\xc4\\xcd;\\xe9'\\x0e-\\xc4\\xc1{lX\\xbf\\x92\\xc5=\\xac\\xcb\\xad\\x94\\xb4\"}\n"
     ]
    }
   ],
   "source": [
    "\n",
    "print(f\"seller address: {seller.get_address()}\")\n",
    "appID = create_auction_app(\n",
    "    client=client,\n",
    "    creator=creator,\n",
    "    store_app_id=storeAppID,\n",
    "    staking_address=staking_address.get_address(),\n",
    "    team_wallet_address=team_wallet_address.get_address()\n",
    ")\n",
    "\n",
    "#appID = 2843\n",
    "print(f\"Auction App ID: {appID}\")\n",
    "print(f\"Auction App Address: {get_application_address(appID)}\")\n",
    "print(\"Latest time:\", get_app_global_state(client, appID))"
   ]
  },
  {
   "cell_type": "markdown",
   "metadata": {},
   "source": [
    "Alice is setting up and funding token auction..."
   ]
  },
  {
   "cell_type": "code",
   "execution_count": 12,
   "metadata": {},
   "outputs": [
    {
     "name": "stdout",
     "output_type": "stream",
     "text": [
      "Waiting for confirmation...\n",
      "Transaction 6XAE237RI46SBPEB4ZLFWJPTSLP2Y4LYTFTKPQC6IAAWXEWVPGXQ confirmed in round 197745.\n"
     ]
    }
   ],
   "source": [
    "set_up(client=client, creator=creator, app_id=storeAppID, trade_app_id=appID, bid_app_id=appID, auction_app_id=appID, distribution_app_id=appID)"
   ]
  },
  {
   "cell_type": "code",
   "execution_count": 13,
   "metadata": {},
   "outputs": [
    {
     "name": "stdout",
     "output_type": "stream",
     "text": [
      "store_app_id 4734\n",
      "new address: V2VUYHVV3QCVRTDW3PY76LHFCGQ3FML4YHN33D6TQ6XX47527E6SKDZGDM\n",
      "new private_key: EgvoEpSHZSBiM6B0Ag9aoX7gc8ycOOxXD1QGgq6j0tmuq0wetdwFWMx22/H/LOURobKxfMHbvY/Th69+f7r5PQ==\n",
      "new passphrase: girl parent annual junk slam marine only parent excess despair public tube science brother toy decade work diary claw call fringe pottery soldier absorb harvest\n",
      "Waiting for confirmation...\n",
      "Transaction 3BRBFYPUKCNXUVVP6YRR7SYQTPNFPJJ5SAIPRDBNOPYKRTJP7SLQ confirmed in round 197747.\n",
      "Waiting for confirmation...\n",
      "Transaction QRHR7O6YSQIEJC22HHRB43CEVHP4EKR4OVUFXX6PR6LF6ZESXQCA confirmed in round 197749.\n",
      "Waiting for confirmation...\n",
      "Transaction CM3QMXZUNFH7UIZIV72T5TL5WJO524LCOONBRZZPMI2MH4OS4DAA confirmed in round 197751.\n",
      "Waiting for confirmation...\n",
      "Transaction 7GCOB6TY7EUKANEJ5OBIBSCICVX3JIEL4DDCZQEUCZ36QNLSFAQQ confirmed in round 197753.\n",
      "Alice's algo balance:  20097391270476  algos\n"
     ]
    }
   ],
   "source": [
    "auction_index = setup_auction_app(\n",
    "    client=client,\n",
    "    app_id=appID,\n",
    "    seller=seller,\n",
    "    token_id=asset_id,\n",
    "    token_amount=token_amount,\n",
    "    start_time=start_time,\n",
    "    end_time=end_time,\n",
    "    reserve=reserve,\n",
    "    min_bid_increment=increment\n",
    ")\n",
    "\n",
    "sellerAlgosBefore = get_balances(client, seller.get_address())[0]\n",
    "print(\"Alice's algo balance: \", sellerAlgosBefore, \" algos\")"
   ]
  },
  {
   "cell_type": "code",
   "execution_count": 14,
   "metadata": {},
   "outputs": [
    {
     "name": "stdout",
     "output_type": "stream",
     "text": [
      "app_global_state {b'SA_ADDR': b'\\xe4\\xe7\\xfe\\xeb\\xfc h\\x02\\xf3\\xc2D\\xe8\\xbf\\x1e\\x10\\xe0\\xb8=\\x99\\xdf1\\x1dX\\xe6P\\xce\\xfb[\\xc8\\xd1\\xa9\\xd3', b'SA_ID': 4734, b'TW_ADDR': b\"\\xa0\\x81}\\xb3\\xa7\\x97\\xdfk,>8\\xc4\\xcd;\\xe9'\\x0e-\\xc4\\xc1{lX\\xbf\\x92\\xc5=\\xac\\xcb\\xad\\x94\\xb4\"}\n",
      "['V2VUYHVV3QCVRTDW3PY76LHFCGQ3FML4YHN33D6TQ6XX47527E6SKDZGDM']\n",
      "Waiting for confirmation...\n",
      "Transaction KCHG2UP7YYYH4CHJMTAXPRWSPYM5VTXBIZZBZ2YBLIHOH5UTTC3A confirmed in round 197755.\n"
     ]
    },
    {
     "data": {
      "text/plain": [
       "True"
      ]
     },
     "execution_count": 14,
     "metadata": {},
     "output_type": "execute_result"
    }
   ],
   "source": [
    "close_auction(client, appID, auction_index, seller)"
   ]
  },
  {
   "cell_type": "code",
   "execution_count": 15,
   "metadata": {},
   "outputs": [
    {
     "name": "stdout",
     "output_type": "stream",
     "text": [
      "start_time 1643621220\n",
      "store_app_id 4734\n",
      "new address: POLULGH4CFWPJ6MHL6IUJAKNG5DYABBL6IIYYBDSSTIXHGTSOVTBC2KU7E\n",
      "new private_key: 4Ld4j5K7hExAHD6pnvkZMLrluG6NYaM4oV7aGj1fKXF7l0WY/BFs9PmHX5FEgU03R4AEK/IRjARylNFzmnJ1Zg==\n",
      "new passphrase: winter tissue element rice annual basket tilt dignity steel toy artefact perfect slice purchase hidden ghost behave lumber consider pumpkin kick fit matter about regret\n",
      "Waiting for confirmation...\n",
      "Transaction UKLTHIO6Y3GLC3UBUTFIOKLW6O3HAFOL3HGKXGV25GTWJWU2WC5A confirmed in round 197757.\n",
      "Waiting for confirmation...\n",
      "Transaction QD3URPGQJDT4X42GT2GA73GNS36ZGXGXU5TZXAGE3PNJGUC7JZUQ confirmed in round 197759.\n",
      "Waiting for confirmation...\n",
      "Transaction LRZA5LUHNPAN7XG43NMLFQTDFL7BM5RC6EY5COHWXTREU2T3YWBQ confirmed in round 197761.\n",
      "Waiting for confirmation...\n",
      "Transaction 5Z4DYVEV2Q3VIGRDLJCKLTCY3VR6BKUAVMHHSLSZTNVH5CFWIHLA confirmed in round 197763.\n",
      "Alice's algo balance:  20097390097476  algos\n"
     ]
    }
   ],
   "source": [
    "start_time = int(time()) + 10\n",
    "end_time = start_time + 30\n",
    "print(f\"start_time\", start_time)\n",
    "auction_index = setup_auction_app(\n",
    "    client=client,\n",
    "    app_id=appID,\n",
    "    seller=seller,\n",
    "    token_id=asset_id,\n",
    "    token_amount=token_amount,\n",
    "    start_time=start_time,\n",
    "    end_time=end_time,\n",
    "    reserve=reserve,\n",
    "    min_bid_increment=increment\n",
    ")\n",
    "\n",
    "sellerAlgosBefore = get_balances(client, seller.get_address())[0]\n",
    "print(\"Alice's algo balance: \", sellerAlgosBefore, \" algos\")"
   ]
  },
  {
   "cell_type": "code",
   "execution_count": 16,
   "metadata": {},
   "outputs": [
    {
     "name": "stdout",
     "output_type": "stream",
     "text": [
      "The smart contract now holds the following: {0: 301000, 2989: 100}\n"
     ]
    }
   ],
   "source": [
    "# _, last_round_time = get_last_block_timestamp(client)\n",
    "# print(f\"start_time\", start_time)\n",
    "# print(f\"last_round_time\", last_round_time)\n",
    "# if last_round_time < start_time + 5:\n",
    "#     sleep(start_time + 5 - last_round_time)\n",
    "\n",
    "actualAppBalancesBefore = get_balances(client, get_application_address(appID))\n",
    "print(\"The smart contract now holds the following:\", actualAppBalancesBefore)"
   ]
  },
  {
   "cell_type": "code",
   "execution_count": 17,
   "metadata": {},
   "outputs": [
    {
     "name": "stdout",
     "output_type": "stream",
     "text": [
      "Carla wants to bid on token, her algo balance:  10046310308577  algos\n",
      "Carla is placing bid for:  1004000  algos\n"
     ]
    }
   ],
   "source": [
    "bidAmount = reserve + 4000\n",
    "bidderAlgosBefore = get_balances(client, bidder.get_address())[0]\n",
    "print(\"Carla wants to bid on token, her algo balance: \", bidderAlgosBefore, \" algos\")\n",
    "print(\"Carla is placing bid for: \", bidAmount, \" algos\")"
   ]
  },
  {
   "cell_type": "code",
   "execution_count": 18,
   "metadata": {},
   "outputs": [
    {
     "name": "stdout",
     "output_type": "stream",
     "text": [
      "lastRoundTime 1643127545\n",
      "prev_bid_leader None\n",
      "Waiting for confirmation...\n",
      "Transaction 2IJBOWOQO25VCEK6MU2T3FT4REFHYZFF67UYATQYESHYZL73MRBA confirmed in round 197765.\n",
      "Carla is opting into token with id: 2989\n"
     ]
    }
   ],
   "source": [
    "_, lastRoundTime = get_last_block_timestamp(client)\n",
    "print(f\"lastRoundTime\", lastRoundTime)\n",
    "place_bid(client=client, app_id=appID, auction_index=auction_index, bidder=bidder, bid_amount=bidAmount)\n",
    "\n",
    "print(\"Carla is opting into token with id:\", asset_id)"
   ]
  },
  {
   "cell_type": "code",
   "execution_count": 19,
   "metadata": {},
   "outputs": [
    {
     "name": "stdout",
     "output_type": "stream",
     "text": [
      "Waiting for confirmation...\n",
      "Transaction ZGVNTHTEUXRVYC47A6SN3XJ7MOGV2TWEHVX7KSTO6YRU7Q4EJRIA confirmed in round 197767.\n",
      "prev_bid_leader X7PMCPPRD2T35ZZRTPETYK53G5YWBKUNONVDY52WODP3N3YM7NGEF5HGWU\n",
      "Waiting for confirmation...\n",
      "Transaction BWS2V46UE4KL54FGGNH3OFAOE3DA7EMKOU7CAR4STNWNQX5LOFPQ confirmed in round 197769.\n",
      "Waiting for confirmation...\n",
      "Transaction 7PAOTNZHPYA5JLIZB6BIIOOJH73W24B6END6Z36BWQZFT7SJGILA confirmed in round 197771.\n",
      "prev_bid_leader LOUBIMVHXMWMJNC4ZBKTIQTGNLF36EIXTEVBD7BUHDMIXKSMKQRNIPMQ6I\n",
      "Waiting for confirmation...\n",
      "Transaction YSCMHX3UCERAQKQ2FYJG5E5WFGFXKDJET2HU5PTWRHQ5EXNDUIKA confirmed in round 197773.\n"
     ]
    },
    {
     "data": {
      "text/plain": [
       "True"
      ]
     },
     "execution_count": 19,
     "metadata": {},
     "output_type": "execute_result"
    }
   ],
   "source": [
    "bidAmount = reserve + 300_000\n",
    "place_bid(client=client, app_id=appID, auction_index=auction_index, bidder=bidder1, bid_amount=bidAmount)\n",
    "\n",
    "bidAmount = reserve + 500_000\n",
    "place_bid(client=client, app_id=appID, auction_index=auction_index, bidder=bidder2, bid_amount=bidAmount)\n"
   ]
  },
  {
   "cell_type": "markdown",
   "metadata": {},
   "source": [
    "Alice is closing out the auction...."
   ]
  },
  {
   "cell_type": "code",
   "execution_count": 20,
   "metadata": {},
   "outputs": [
    {
     "name": "stdout",
     "output_type": "stream",
     "text": [
      "app_global_state {b'SA_ADDR': b'\\xe4\\xe7\\xfe\\xeb\\xfc h\\x02\\xf3\\xc2D\\xe8\\xbf\\x1e\\x10\\xe0\\xb8=\\x99\\xdf1\\x1dX\\xe6P\\xce\\xfb[\\xc8\\xd1\\xa9\\xd3', b'SA_ID': 4734, b'TW_ADDR': b\"\\xa0\\x81}\\xb3\\xa7\\x97\\xdfk,>8\\xc4\\xcd;\\xe9'\\x0e-\\xc4\\xc1{lX\\xbf\\x92\\xc5=\\xac\\xcb\\xad\\x94\\xb4\"}\n",
      "['POLULGH4CFWPJ6MHL6IUJAKNG5DYABBL6IIYYBDSSTIXHGTSOVTBC2KU7E', '742N2DLQ6NUUQXNUTNIJHYXYGL6BWG7C2XSQDHLFJN2NFYDVAYYUAQ36NQ', '4TT75274EBUAF46CITUL6HQQ4C4D3GO7GEOVRZSQZ35VXSGRVHJ376GD64', 'UCAX3M5HS7PWWLB6HDCM2O7JE4HC3RGBPNWFRP4SYU62ZS5NSS2GFOKIOU']\n",
      "Waiting for confirmation...\n",
      "Transaction OE4F5RJT4OAWQWA4J6YLGD5VVDH52KBY42VIUXC4XCWJK2OXAOZA confirmed in round 197775.\n"
     ]
    },
    {
     "data": {
      "text/plain": [
       "True"
      ]
     },
     "execution_count": 20,
     "metadata": {},
     "output_type": "execute_result"
    }
   ],
   "source": [
    "# _, lastRoundTime = get_last_block_timestamp(client)\n",
    "# if lastRoundTime < end_time + 5:\n",
    "#     sleep(end_time + 5 - lastRoundTime)\n",
    "\n",
    "close_auction(client, appID, auction_index, seller)"
   ]
  },
  {
   "cell_type": "code",
   "execution_count": 21,
   "metadata": {},
   "outputs": [
    {
     "name": "stdout",
     "output_type": "stream",
     "text": [
      "The smart contract now holds the following: {0: 1807000, 2989: 0}\n",
      "storeAppID 4734\n",
      "{b'SA': 1496000}\n",
      "{}\n",
      "{}\n",
      "{b'BA': 1496000}\n"
     ]
    }
   ],
   "source": [
    "actualAppBalances = get_balances(client, get_application_address(appID))\n",
    "expectedAppBalances = {0: 0}\n",
    "print(\"The smart contract now holds the following:\", actualAppBalances)\n",
    "print(f\"storeAppID\", storeAppID)\n",
    "#assert actualAppBalances == expectedAppBalances\n",
    "\n",
    "from utils import get_app_local_state\n",
    "print(get_app_local_state(client, storeAppID, seller.get_address()))\n",
    "print(get_app_local_state(client, storeAppID, bidder.get_address()))\n",
    "print(get_app_local_state(client, storeAppID, bidder1.get_address()))\n",
    "print(get_app_local_state(client, storeAppID, bidder2.get_address()))"
   ]
  },
  {
   "cell_type": "code",
   "execution_count": 23,
   "metadata": {},
   "outputs": [
    {
     "name": "stdout",
     "output_type": "stream",
     "text": [
      "Carla's NFT balance: 0  for token ID:  2989\n",
      "Alice's balances after auction:  {0: 20097389050476, 370: 0, 436: 0, 499: 0, 2989: 49999999857780, 3558: 1, 3559: 80000, 4013: 1, 4023: 1, 4042: 1, 4185: 1}  Algos\n",
      "Carla's balances after auction:  {0: 10046310302577, 499: 155, 2989: 50000000040020, 3559: 49999999920000, 3992: 0, 4002: 10, 4031: 10, 4050: 10}  Algos\n"
     ]
    }
   ],
   "source": [
    "#bidderNftBalance = get_balances(client, bidder.get_address())[asset_id]\n",
    "bidder1NftBalance = get_balances(client, bidder1.get_address())[asset_id]\n",
    "#bidder2NftBalance = get_balances(client, bidder2.get_address())[asset_id]\n",
    "\n",
    "print(\"Carla's NFT balance:\", bidder1NftBalance, \" for token ID: \", asset_id)\n",
    "\n",
    "actualSellerBalances = get_balances(client, seller.get_address())\n",
    "print(\"Alice's balances after auction: \", actualSellerBalances, \" Algos\")\n",
    "actualBidderBalances = get_balances(client, bidder.get_address())\n",
    "print(\"Carla's balances after auction: \", actualBidderBalances, \" Algos\")\n"
   ]
  },
  {
   "cell_type": "code",
   "execution_count": 25,
   "metadata": {},
   "outputs": [
    {
     "name": "stdout",
     "output_type": "stream",
     "text": [
      "{b'AA_ADDR': 4758, b'BA_ADDR': 4758, b'TA_ADDR': 4758, b'TSA': 1496000, b'DA_ADDR': 4758, b'TBA': 1496000}\n"
     ]
    }
   ],
   "source": [
    "storeAppState = get_app_global_state(client, storeAppID)\n",
    "print(storeAppState)"
   ]
  }
 ],
 "metadata": {
  "interpreter": {
   "hash": "d8d32039960e27bf02cc380478024df65258985d3f6246b5f3627ebac0bfeee0"
  },
  "kernelspec": {
   "display_name": "Python 3.8.10 64-bit ('venv': venv)",
   "language": "python",
   "name": "python3"
  },
  "language_info": {
   "codemirror_mode": {
    "name": "ipython",
    "version": 3
   },
   "file_extension": ".py",
   "mimetype": "text/x-python",
   "name": "python",
   "nbconvert_exporter": "python",
   "pygments_lexer": "ipython3",
   "version": "3.9.10"
  },
  "orig_nbformat": 4
 },
 "nbformat": 4,
 "nbformat_minor": 2
}
