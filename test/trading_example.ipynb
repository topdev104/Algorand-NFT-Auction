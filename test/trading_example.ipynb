{
 "cells": [
  {
   "cell_type": "code",
   "execution_count": null,
   "metadata": {},
   "outputs": [],
   "source": [
    "import os\n",
    "\n",
    "import dotenv\n",
    "\n",
    "from time import time, sleep\n",
    "from algosdk.future import transaction\n",
    "from algosdk.logic import get_application_address\n",
    "\n",
    "import sys\n",
    "  \n",
    "# setting path\n",
    "sys.path.append('../test')\n",
    "\n",
    "from trading.operations import create_trading_app, setup_trading_app, place_trade, cancel_trade, accept_trade, close_trading\n",
    "from store.operations import StoringPool\n",
    "from utils import *\n",
    "from account import Account"
   ]
  },
  {
   "cell_type": "code",
   "execution_count": null,
   "metadata": {},
   "outputs": [],
   "source": [
    "dotenv.load_dotenv('.env')\n",
    "\n",
    "client = get_algod_client(os.environ.get('ALGOD_URL'), os.environ.get('ALGOD_TOKEN'))"
   ]
  },
  {
   "cell_type": "code",
   "execution_count": null,
   "metadata": {},
   "outputs": [],
   "source": [
    "creator = Account.from_mnemonic(os.environ.get('CREATOR_MN'))\n",
    "bidder = Account.from_mnemonic(os.environ.get('BUYER_MN'))\n",
    "seller = Account.from_mnemonic(os.environ.get('SELLER_MN'))\n",
    "\n",
    "storeAppID = int(os.environ.get(\"STORE_APP_ID\"))\n",
    "print(f\"storeAppID: {storeAppID}\")\n",
    "#close_trading(client, 693, storeAppID, creator)\n",
    "\n",
    "print(f\"Creator address: {creator.get_address()}\")\n",
    "print(f\"Bidder address: {bidder.get_address()}\")\n",
    "print(f\"Seller Address: {seller.get_address()}\")"
   ]
  },
  {
   "cell_type": "markdown",
   "metadata": {},
   "source": [
    "Alice is generating an example token..."
   ]
  },
  {
   "cell_type": "code",
   "execution_count": null,
   "metadata": {},
   "outputs": [],
   "source": [
    "# def create_dummy_asset(sender: Account, total: int, decimals: int, asset_name: str, unit_name: str):\n",
    "#     txn = transaction.AssetConfigTxn(\n",
    "#         sender=sender.get_address(),\n",
    "#         sp=client.suggested_params(),\n",
    "#         total=total,\n",
    "#         decimals=decimals,\n",
    "#         asset_name=asset_name,\n",
    "#         unit_name=unit_name,\n",
    "#         default_frozen=False,\n",
    "#         strict_empty_address_check=False,\n",
    "#     )\n",
    "#     signed_txn = txn.sign(sender.get_private_key())\n",
    "\n",
    "#     client.send_transaction(signed_txn)\n",
    "\n",
    "#     response = wait_for_confirmation(client, signed_txn.get_txid())\n",
    "#     assert response.asset_index is not None and response.asset_index > 0\n",
    "#     return response.asset_index\n",
    "\n",
    "# asset_id = create_dummy_asset(seller, 1, 0, \"example token\", \"AVT\")\n",
    "\n",
    "asset_id = int(os.environ.get(\"TOKEN_ID\"))\n",
    "print(f\"The token id is: {asset_id}\")"
   ]
  },
  {
   "cell_type": "code",
   "execution_count": null,
   "metadata": {},
   "outputs": [],
   "source": [
    "start_time = int(time()) + 10\n",
    "end_time = start_time + 10\n",
    "price = 1_000_000  # 1 Algo"
   ]
  },
  {
   "cell_type": "markdown",
   "metadata": {},
   "source": [
    "\"Alice is creating auction smart contract that lasts 30 seconds to auction off token...\""
   ]
  },
  {
   "cell_type": "code",
   "execution_count": null,
   "metadata": {},
   "outputs": [],
   "source": [
    "storeApp = StoringPool(client=client, creator=creator)\n",
    "# storeApp.create_app()\n",
    "# storeAppID = storeApp.app_id\n",
    "\n",
    "storeAppID = int(os.environ.get(\"STORE_APP_ID\"))\n",
    "storeApp.app_id = storeAppID\n",
    "print(f\"Store App ID: {storeAppID}\")\n",
    "\n",
    "storeAppAddress = get_application_address(storeAppID)\n",
    "print(f\"Store App Address: {storeAppAddress}\")\n"
   ]
  },
  {
   "cell_type": "code",
   "execution_count": null,
   "metadata": {},
   "outputs": [],
   "source": [
    "\n",
    "appID = create_trading_app(\n",
    "    client=client,\n",
    "    creator=creator,\n",
    "    store_app_id=storeAppID\n",
    ")\n",
    "print(f\"App ID: {appID}\")\n",
    "print(f\"App Address: {get_application_address(appID)}\")"
   ]
  },
  {
   "cell_type": "code",
   "execution_count": null,
   "metadata": {},
   "outputs": [],
   "source": [
    "storeApp.set_up(trade_app_id=appID, bid_app_id=appID, auction_app_id=appID, distribution_app_id=appID)"
   ]
  },
  {
   "cell_type": "markdown",
   "metadata": {},
   "source": [
    "Alice is setting up and funding token auction..."
   ]
  },
  {
   "cell_type": "code",
   "execution_count": null,
   "metadata": {},
   "outputs": [],
   "source": [
    "setup_trading_app(\n",
    "    client=client,\n",
    "    app_id=appID,\n",
    "    funder=creator,\n",
    "    token_id=asset_id,\n",
    ")\n",
    "\n",
    "sellerAlgosBefore = get_balances(client, seller.get_address())[0]\n",
    "print(\"Alice's algo balance: \", sellerAlgosBefore, \" algos\")"
   ]
  },
  {
   "cell_type": "code",
   "execution_count": null,
   "metadata": {},
   "outputs": [],
   "source": [
    "sleep(5)\n",
    "actualAppBalancesBefore = get_balances(client, get_application_address(appID))\n",
    "print(\"The smart contract now holds the following:\", actualAppBalancesBefore)"
   ]
  },
  {
   "cell_type": "code",
   "execution_count": null,
   "metadata": {},
   "outputs": [],
   "source": [
    "bidPrice = price\n",
    "bidderAlgosBefore = get_balances(client, bidder.get_address())[0]\n",
    "print(\"Carla wants to bid on token, her algo balance: \", bidderAlgosBefore, \" algos\")\n",
    "print(\"Carla is placing bid for: \", bidPrice, \" algos\")"
   ]
  },
  {
   "cell_type": "code",
   "execution_count": null,
   "metadata": {},
   "outputs": [],
   "source": [
    "trading_index = place_trade(client=client, app_id=appID, seller=seller, token_id=asset_id, token_amount=10, price=bidPrice, trading_index=\"\")\n",
    "\n",
    "print(\"Carla bid\", trading_index)"
   ]
  },
  {
   "cell_type": "code",
   "execution_count": null,
   "metadata": {},
   "outputs": [],
   "source": [
    "# account_info = client.account_info(bidder.get_address())  \n",
    "# print(account_info.get('apps-local-state', []))\n",
    "# print(is_opted_in_app(client, appID, bidder.get_address()))\n",
    "\n",
    "cancel_trade(client, appID, seller, trading_index)\n",
    "print(\"Carla cancel trading\", trading_index)"
   ]
  },
  {
   "cell_type": "code",
   "execution_count": null,
   "metadata": {},
   "outputs": [],
   "source": [
    "trading_index = place_trade(client=client, app_id=appID, seller=seller, token_id=asset_id, token_amount=10, price=bidPrice, trading_index=\"\")\n",
    "\n",
    "place_trade(client=client, app_id=appID, seller=seller, token_id=asset_id, token_amount=15, price=bidPrice, trading_index=trading_index)"
   ]
  },
  {
   "cell_type": "code",
   "execution_count": null,
   "metadata": {},
   "outputs": [],
   "source": [
    "accept_trade(client, appID, bidder, seller.get_address(), trading_index)"
   ]
  },
  {
   "cell_type": "markdown",
   "metadata": {},
   "source": [
    "Alice is closing out the auction...."
   ]
  },
  {
   "cell_type": "code",
   "execution_count": null,
   "metadata": {},
   "outputs": [],
   "source": [
    "sleep(5)\n",
    "\n",
    "close_trading(client, appID, creator, [asset_id])"
   ]
  },
  {
   "cell_type": "code",
   "execution_count": null,
   "metadata": {},
   "outputs": [],
   "source": [
    "actualAppBalances = get_balances(client, get_application_address(appID))\n",
    "expectedAppBalances = {0: 0}\n",
    "print(\"The smart contract now holds the following:\", actualAppBalances)\n",
    "\n",
    "#assert actualAppBalances == expectedAppBalances"
   ]
  },
  {
   "cell_type": "code",
   "execution_count": null,
   "metadata": {},
   "outputs": [],
   "source": [
    "bidderNftBalance = get_balances(client, bidder.get_address())[asset_id]\n",
    "\n",
    "print(\"Carla's NFT balance:\", bidderNftBalance, \" for token ID: \", asset_id)\n",
    "\n",
    "assert bidderNftBalance == 1\n",
    "\n",
    "actualSellerBalances = get_balances(client, seller.get_address())\n",
    "print(\"Alice's balances after auction: \", actualSellerBalances, \" Algos\")\n",
    "\n",
    "actualBidderBalances = get_balances(client, bidder.get_address())\n",
    "print(\"Carla's balances after auction: \", actualBidderBalances, \" Algos\")\n",
    "# assert len(actualSellerBalances) == 2\n",
    "# seller should receive the bid amount, minus the txn fee\n",
    "assert actualSellerBalances[0] >= sellerAlgosBefore + bidPrice - 1_000\n",
    "assert actualSellerBalances[asset_id] == 0"
   ]
  },
  {
   "cell_type": "code",
   "execution_count": null,
   "metadata": {},
   "outputs": [],
   "source": [
    "app_global_state = get_app_global_state(client, storeAppID)\n",
    "print(app_global_state)\n",
    "seller_app_local_state = get_app_local_state(client, storeAppID, seller.get_address())\n",
    "print(seller_app_local_state)\n",
    "bidder_app_local_state = get_app_local_state(client, storeAppID, bidder.get_address())\n",
    "print(bidder_app_local_state)\n",
    "# print(encoding.encode_address(app_global_state[b\"AS\"]))\n",
    "# print(encoding.encode_address(app_global_state[b\"S\"]))\n",
    "#print(encoding.encode_address(storeAppState[b\"C\"]))"
   ]
  }
 ],
 "metadata": {
  "interpreter": {
   "hash": "d8d32039960e27bf02cc380478024df65258985d3f6246b5f3627ebac0bfeee0"
  },
  "kernelspec": {
   "display_name": "Python 3.8.10 64-bit ('venv': venv)",
   "language": "python",
   "name": "python3"
  },
  "language_info": {
   "codemirror_mode": {
    "name": "ipython",
    "version": 3
   },
   "file_extension": ".py",
   "mimetype": "text/x-python",
   "name": "python",
   "nbconvert_exporter": "python",
   "pygments_lexer": "ipython3",
   "version": "3.9.9"
  },
  "orig_nbformat": 4
 },
 "nbformat": 4,
 "nbformat_minor": 2
}
