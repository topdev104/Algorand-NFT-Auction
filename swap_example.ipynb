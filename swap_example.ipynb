{
 "cells": [
  {
   "cell_type": "code",
   "execution_count": 1,
   "metadata": {},
   "outputs": [],
   "source": [
    "import os\n",
    "\n",
    "import dotenv\n",
    "\n",
    "from time import time, sleep\n",
    "from algosdk.future import transaction\n",
    "from algosdk.logic import get_application_address\n",
    "\n",
    "from swap.operations import *\n",
    "from utils import *\n",
    "from account import Account"
   ]
  },
  {
   "cell_type": "code",
   "execution_count": 2,
   "metadata": {},
   "outputs": [
    {
     "name": "stdout",
     "output_type": "stream",
     "text": [
      "Creator address: 4TT75274EBUAF46CITUL6HQQ4C4D3GO7GEOVRZSQZ35VXSGRVHJ376GD64\n",
      "Bidder address: X7PMCPPRD2T35ZZRTPETYK53G5YWBKUNONVDY52WODP3N3YM7NGEF5HGWU\n",
      "Seller Address: CN4EQ6QXFCDLR2ATDTRJMMFGLXSUS5TMLGLO7FJDBQRQGFUXTUA4LBVEIA\n"
     ]
    }
   ],
   "source": [
    "dotenv.load_dotenv('.env')\n",
    "client = get_algod_client(os.environ.get('ALGOD_URL'), os.environ.get('ALGOD_TOKEN'))\n",
    "\n",
    "creator = Account.from_mnemonic(os.environ.get('CREATOR_MN'))\n",
    "bidder = Account.from_mnemonic(os.environ.get('BUYER_MN'))\n",
    "seller = Account.from_mnemonic(os.environ.get('SELLER_MN'))\n",
    "\n",
    "staking_address = Account.from_mnemonic(os.environ.get(\"CREATOR_MN\"))\n",
    "team_wallet_address = Account.from_mnemonic(os.environ.get(\"TEAM_MN\"))\n",
    "\n",
    "print(f\"Creator address: {creator.get_address()}\")\n",
    "print(f\"Bidder address: {bidder.get_address()}\")\n",
    "print(f\"Seller Address: {seller.get_address()}\")"
   ]
  },
  {
   "cell_type": "markdown",
   "metadata": {},
   "source": [
    "Alice is generating an example token..."
   ]
  },
  {
   "cell_type": "code",
   "execution_count": 3,
   "metadata": {},
   "outputs": [
    {
     "name": "stdout",
     "output_type": "stream",
     "text": [
      "The token id is: 12\n",
      "The token2 id is: 397\n"
     ]
    }
   ],
   "source": [
    "asset1_id = int(os.environ.get(\"TOKEN_ID\"))\n",
    "asset2_id = int(os.environ.get(\"TOKEN2_ID\"))\n",
    "print(f\"The token id is: {asset1_id}\")\n",
    "print(f\"The token2 id is: {asset2_id}\")"
   ]
  },
  {
   "cell_type": "markdown",
   "metadata": {},
   "source": [
    "\"Alice is creating auction smart contract that lasts 30 seconds to auction off token...\""
   ]
  },
  {
   "cell_type": "code",
   "execution_count": 5,
   "metadata": {},
   "outputs": [],
   "source": [
    "deleteApps(client, [], creator)"
   ]
  },
  {
   "cell_type": "code",
   "execution_count": 4,
   "metadata": {},
   "outputs": [
    {
     "name": "stdout",
     "output_type": "stream",
     "text": [
      "App ID: 19\n",
      "App Address: IENLVNK7TDN6X3W26JGMRDT2RKKNX7CYVRGJTTUV34O54NXHNQ3C7DA5TA\n"
     ]
    }
   ],
   "source": [
    "\n",
    "appID = int(os.environ.get(\"SWAP_APP_ID\"))\n",
    "# appID = create_swap_app(\n",
    "#     client=client,\n",
    "#     creator=creator,\n",
    "#     staking_address=staking_address.get_address(),\n",
    "#     team_wallet_address=team_wallet_address.get_address()\n",
    "# )\n",
    "print(f\"App ID: {appID}\")\n",
    "print(f\"App Address: {get_application_address(appID)}\")"
   ]
  },
  {
   "cell_type": "markdown",
   "metadata": {},
   "source": [
    "Alice is setting up and funding token auction..."
   ]
  },
  {
   "cell_type": "code",
   "execution_count": 5,
   "metadata": {},
   "outputs": [
    {
     "name": "stdout",
     "output_type": "stream",
     "text": [
      "Alice's asset1 balance:  99999999999999995\n",
      "Alice's asset2 balance:  100000000000000000\n",
      "Carla's asset1 balance:  0\n"
     ]
    },
    {
     "ename": "KeyError",
     "evalue": "397",
     "output_type": "error",
     "traceback": [
      "\u001b[0;31m---------------------------------------------------------------------------\u001b[0m",
      "\u001b[0;31mKeyError\u001b[0m                                  Traceback (most recent call last)",
      "\u001b[0;32m/var/folders/3k/5_sd8_ms50n24wv9pqsdmpcr0000gn/T/ipykernel_17125/3634552168.py\u001b[0m in \u001b[0;36m<module>\u001b[0;34m\u001b[0m\n\u001b[1;32m      8\u001b[0m \u001b[0mprint\u001b[0m\u001b[0;34m(\u001b[0m\u001b[0;34m\"Carla's asset1 balance: \"\u001b[0m\u001b[0;34m,\u001b[0m \u001b[0mbidderAsset1BalanceBefore\u001b[0m\u001b[0;34m)\u001b[0m\u001b[0;34m\u001b[0m\u001b[0;34m\u001b[0m\u001b[0m\n\u001b[1;32m      9\u001b[0m \u001b[0;34m\u001b[0m\u001b[0m\n\u001b[0;32m---> 10\u001b[0;31m \u001b[0mbidderAsset2BalanceBefore\u001b[0m \u001b[0;34m=\u001b[0m \u001b[0mget_balances\u001b[0m\u001b[0;34m(\u001b[0m\u001b[0mclient\u001b[0m\u001b[0;34m,\u001b[0m \u001b[0mbidder\u001b[0m\u001b[0;34m.\u001b[0m\u001b[0mget_address\u001b[0m\u001b[0;34m(\u001b[0m\u001b[0;34m)\u001b[0m\u001b[0;34m)\u001b[0m\u001b[0;34m[\u001b[0m\u001b[0masset2_id\u001b[0m\u001b[0;34m]\u001b[0m\u001b[0;34m\u001b[0m\u001b[0;34m\u001b[0m\u001b[0m\n\u001b[0m\u001b[1;32m     11\u001b[0m \u001b[0mprint\u001b[0m\u001b[0;34m(\u001b[0m\u001b[0;34m\"Carla's asset2 balance: \"\u001b[0m\u001b[0;34m,\u001b[0m \u001b[0mbidderAsset2BalanceBefore\u001b[0m\u001b[0;34m)\u001b[0m\u001b[0;34m\u001b[0m\u001b[0;34m\u001b[0m\u001b[0m\n",
      "\u001b[0;31mKeyError\u001b[0m: 397"
     ]
    }
   ],
   "source": [
    "sellerAsset1BalanceBefore = get_balances(client, seller.get_address())[asset1_id]\n",
    "print(\"Alice's asset1 balance: \", sellerAsset1BalanceBefore)\n",
    "\n",
    "sellerAsset2BalanceBefore = get_balances(client, seller.get_address())[asset2_id]\n",
    "print(\"Alice's asset2 balance: \", sellerAsset2BalanceBefore)\n",
    "\n",
    "bidderAsset1BalanceBefore = get_balances(client, bidder.get_address())[asset1_id]\n",
    "print(\"Carla's asset1 balance: \", bidderAsset1BalanceBefore)\n",
    "\n",
    "bidderAsset2BalanceBefore = get_balances(client, bidder.get_address())[asset2_id]\n",
    "print(\"Carla's asset2 balance: \", bidderAsset2BalanceBefore)"
   ]
  },
  {
   "cell_type": "code",
   "execution_count": 6,
   "metadata": {},
   "outputs": [
    {
     "name": "stdout",
     "output_type": "stream",
     "text": [
      "The smart contract now holds the following: {0: 100000}\n"
     ]
    }
   ],
   "source": [
    "actualAppBalancesBefore = get_balances(client, get_application_address(appID))\n",
    "print(\"The smart contract now holds the following:\", actualAppBalancesBefore)"
   ]
  },
  {
   "cell_type": "code",
   "execution_count": 8,
   "metadata": {},
   "outputs": [],
   "source": [
    "offeringAmount = 10_000\n",
    "acceptingAmount = 20_000\n"
   ]
  },
  {
   "cell_type": "code",
   "execution_count": 13,
   "metadata": {},
   "outputs": [
    {
     "name": "stdout",
     "output_type": "stream",
     "text": [
      "Alice's balance:  10036254347981\n",
      "Waiting for confirmation...\n",
      "Transaction SJYGGPWMBL24ZKK2WKSHUVTEPDS6LHLX5YPP7VKVIDPGVCCJTVZQ confirmed in round 145018.\n",
      "Waiting for confirmation...\n",
      "Transaction SZFYC3HVXE2WSCEHXTXUVJ2TUXMBUQJWDMUAULGLEM4OECHF5UVQ confirmed in round 145020.\n",
      "Waiting for confirmation...\n",
      "Transaction R54Q3N7EOANQUKUFNMWUEVJRIORMGJU33G2373KGXKMXWESWZBXQ confirmed in round 145022.\n",
      "Alice's balance:  10036254344981\n"
     ]
    }
   ],
   "source": [
    "sellerBalanceBefore = get_balances(client, seller.get_address())[0]\n",
    "print(\"Alice's balance: \", sellerBalanceBefore)\n",
    "\n",
    "optin_asset(client, asset1_id, seller)\n",
    "optin_asset(client, asset1_id, seller)\n",
    "\n",
    "sellerBalanceBefore = get_balances(client, seller.get_address())[0]\n",
    "print(\"Alice's balance: \", sellerBalanceBefore)"
   ]
  },
  {
   "cell_type": "code",
   "execution_count": 9,
   "metadata": {},
   "outputs": [
    {
     "name": "stdout",
     "output_type": "stream",
     "text": [
      "Waiting for confirmation...\n",
      "Transaction VW5RETQDVO6R6OCRZSIGQ7IW7Q6MJE6DRC7DTW5WIN4NIXNCPTXQ confirmed in round 144962.\n",
      "Waiting for confirmation...\n",
      "Transaction HO7TEZD7O5QTC3IXUHRPC6GX7MLN54XGYUDWQGCZNFGNQEOZHOFQ confirmed in round 144964.\n"
     ]
    }
   ],
   "source": [
    "setup_swap_app(client=client, app_id=appID, funder=seller, token_ids=[asset1_id, asset2_id])\n",
    "setup_swap_app(client=client, app_id=appID, funder=seller, token_ids=[asset1_id, asset2_id])"
   ]
  },
  {
   "cell_type": "code",
   "execution_count": 11,
   "metadata": {},
   "outputs": [
    {
     "name": "stdout",
     "output_type": "stream",
     "text": [
      "Alice's balance:  10036244312737\n"
     ]
    }
   ],
   "source": [
    "sellerBalanceBefore = get_balances(client, seller.get_address())[0]\n",
    "print(\"Alice's balance: \", sellerBalanceBefore)"
   ]
  },
  {
   "cell_type": "code",
   "execution_count": 10,
   "metadata": {},
   "outputs": [
    {
     "name": "stdout",
     "output_type": "stream",
     "text": [
      "Waiting for confirmation...\n",
      "Transaction IRM5OJKSUR2ELFAHFY4IL4KZNUKL7AKSUBRVHN3YLJX2FT7JYX2A confirmed in round 218086.\n",
      "new address: UW5U6WICZGLYXQNZNHNGGM3VPYZDJW6ZE3X66UW52NNRW6EMD34GRDJ7FA\n",
      "new private_key: tk6kgCXfWqQUiWkTqhS4Pd4KSjr/TCAkf5+hL9pEeVClu09ZAsmXi8G5adpjM3V+MjTb2Sbv71Ld01sbeIwe+A==\n",
      "new passphrase: strategy muffin scare venture remember cinnamon emerge hat draw famous swing toilet between myth what erupt lottery wish soul wheel reform eye long able talent\n",
      "Waiting for confirmation...\n",
      "Transaction 4QC4WDZHGWINYMAUNBRKHD44M4SEWSYWJ2BWY47RCBWJWSRCR2LQ confirmed in round 218088.\n",
      "Waiting for confirmation...\n",
      "Transaction 2TWX4DU2WGSRA7UNUVTT62JBX6ODANN57JPVEDIOT646GLJDYSGQ confirmed in round 218090.\n",
      "Waiting for confirmation...\n",
      "Transaction XEJUAJ64WR52QHH4CFC6CFJGSKLLVVJBWANNUU7NFYYJGX7JMVHA confirmed in round 218092.\n",
      "token_txn: {'sender': 'CN4EQ6QXFCDLR2ATDTRJMMFGLXSUS5TMLGLO7FJDBQRQGFUXTUA4LBVEIA', 'fee': 1000, 'first_valid_round': 218084, 'last_valid_round': 219084, 'note': None, 'genesis_id': 'sandnet-v1', 'genesis_hash': 'S46yr60YjyJzK3Fk0J8V7mzMIOSxovaXAVqCHlwPl1A=', 'group': None, 'lease': None, 'type': 'axfer', 'rekey_to': None, 'receiver': 'NRAWCBH3L5OFEHLZ7OPRWALYUYQBE2QPRMJZVWO2POP6A3ABVRNZCJ4FPM', 'amount': 10000, 'index': 2989, 'close_assets_to': None, 'revocation_target': None}\n",
      "Waiting for confirmation...\n",
      "Transaction GPAODFMA3JANQT6Q7LS4UZAJUDUPVP37X574HZIFNKLIFH6VQP7Q confirmed in round 218094.\n",
      "Carla wants to swap on asset1  10000  to asset2  20000\n",
      "Carla bid UW5U6WICZGLYXQNZNHNGGM3VPYZDJW6ZE3X66UW52NNRW6EMD34GRDJ7FA\n"
     ]
    }
   ],
   "source": [
    "swap_index = place_swap(client=client, app_id=appID, offer=seller, offering_token_id=asset1_id, offering_token_amount=offeringAmount, accepting_token_id=asset2_id, accepting_token_amount=acceptingAmount, swap_index=\"\")\n",
    "print(\"Carla wants to swap on asset1 \", offeringAmount, \" to asset2 \", acceptingAmount)\n",
    "print(\"Carla bid\", swap_index)"
   ]
  },
  {
   "cell_type": "code",
   "execution_count": 11,
   "metadata": {},
   "outputs": [
    {
     "name": "stdout",
     "output_type": "stream",
     "text": [
      "Waiting for confirmation...\n",
      "Transaction V26P4TCDSNU2YC7MK6K4BTQKIE3ZOU3IZZVPZACJN4JOBMMTOY3A confirmed in round 218096.\n",
      "Carla cancel swap UW5U6WICZGLYXQNZNHNGGM3VPYZDJW6ZE3X66UW52NNRW6EMD34GRDJ7FA\n"
     ]
    }
   ],
   "source": [
    "# account_info = client.account_info(bidder.get_address())  \n",
    "# print(account_info.get('apps-local-state', []))\n",
    "# print(is_opted_in_app(client, appID, bidder.get_address()))\n",
    "\n",
    "cancel_swap(client, appID, seller, swap_index)\n",
    "print(\"Carla cancel swap\", swap_index)"
   ]
  },
  {
   "cell_type": "code",
   "execution_count": 12,
   "metadata": {},
   "outputs": [
    {
     "name": "stdout",
     "output_type": "stream",
     "text": [
      "new address: 5WC25QMAZ2JPRKPJJY5DMMVOXQAWO3CAN52CPLA3TXXAOYOQWUMEHRXS64\n",
      "new private_key: ab9gVw936Ocd8R1q6DpcON4X1DB4/nz+qj/ieHnTRqHtha7BgM6S+KnpTjo2Mq68AWdsQG90J6wbne4HYdC1GA==\n",
      "new passphrase: unfold load produce ill special ketchup material bulb ask two come toe cook crush screen wrist sort program cabin mixed very regular any absent appear\n",
      "Waiting for confirmation...\n",
      "Transaction 2JO6MG6IRS254BYBOCCF4A7LHMKVUXRXIBIWPCZ7YMLV7RXNFVUQ confirmed in round 218098.\n",
      "Waiting for confirmation...\n",
      "Transaction C3WNHBQF46PL5FCGIBPYQASXCZV3WIRJSWH4UBO4DLBS3UMYKYLA confirmed in round 218100.\n",
      "Waiting for confirmation...\n",
      "Transaction VZFMFYOT3WNGPJBWSROMIOCHSPSNVWINHKCOU4MAZV7YKRYCID7A confirmed in round 218102.\n",
      "token_txn: {'sender': 'CN4EQ6QXFCDLR2ATDTRJMMFGLXSUS5TMLGLO7FJDBQRQGFUXTUA4LBVEIA', 'fee': 1000, 'first_valid_round': 218096, 'last_valid_round': 219096, 'note': None, 'genesis_id': 'sandnet-v1', 'genesis_hash': 'S46yr60YjyJzK3Fk0J8V7mzMIOSxovaXAVqCHlwPl1A=', 'group': None, 'lease': None, 'type': 'axfer', 'rekey_to': None, 'receiver': 'NRAWCBH3L5OFEHLZ7OPRWALYUYQBE2QPRMJZVWO2POP6A3ABVRNZCJ4FPM', 'amount': 10000, 'index': 2989, 'close_assets_to': None, 'revocation_target': None}\n",
      "Waiting for confirmation...\n",
      "Transaction BSSH627X4HGTSW5NLEZEJKY3PBDO43L2WVHONURPWDMZNN53KDAQ confirmed in round 218104.\n",
      "token_txn: {'sender': 'CN4EQ6QXFCDLR2ATDTRJMMFGLXSUS5TMLGLO7FJDBQRQGFUXTUA4LBVEIA', 'fee': 1000, 'first_valid_round': 218104, 'last_valid_round': 219104, 'note': None, 'genesis_id': 'sandnet-v1', 'genesis_hash': 'S46yr60YjyJzK3Fk0J8V7mzMIOSxovaXAVqCHlwPl1A=', 'group': None, 'lease': None, 'type': 'axfer', 'rekey_to': None, 'receiver': 'NRAWCBH3L5OFEHLZ7OPRWALYUYQBE2QPRMJZVWO2POP6A3ABVRNZCJ4FPM', 'amount': 10000, 'index': 2989, 'close_assets_to': None, 'revocation_target': None}\n",
      "Waiting for confirmation...\n",
      "Transaction J2ZNHAMSG3DLSLQSRVWYKBVMJA3LTVMGRRMLNR4NFBX3DLXBS5SQ confirmed in round 218106.\n"
     ]
    }
   ],
   "source": [
    "swap_index = place_swap(client=client, app_id=appID, offer=seller, offering_token_id=asset1_id, offering_token_amount=offeringAmount, accepting_token_id=asset2_id, accepting_token_amount=acceptingAmount, swap_index=\"\")\n",
    "# replace swap\n",
    "swap_index = place_swap(client=client, app_id=appID, offer=seller, offering_token_id=asset1_id, offering_token_amount=offeringAmount, accepting_token_id=asset2_id, accepting_token_amount=acceptingAmount, swap_index=swap_index)"
   ]
  },
  {
   "cell_type": "code",
   "execution_count": 13,
   "metadata": {},
   "outputs": [
    {
     "name": "stdout",
     "output_type": "stream",
     "text": [
      "offer address CN4EQ6QXFCDLR2ATDTRJMMFGLXSUS5TMLGLO7FJDBQRQGFUXTUA4LBVEIA\n",
      "offering_token_id 2989\n",
      "offering_token_amount 10000\n",
      "accepting_token_id 3559\n",
      "accepting_token_amount 20000\n",
      "Waiting for confirmation...\n",
      "Transaction B2BFOVDRFHMFWZ4TEHRNMCVJ5RPJIUFVQ5RWXZ7SJWYRECXSRFRA confirmed in round 218108.\n"
     ]
    },
    {
     "data": {
      "text/plain": [
       "True"
      ]
     },
     "execution_count": 13,
     "metadata": {},
     "output_type": "execute_result"
    }
   ],
   "source": [
    "accept_swap(client, appID, bidder, swap_index)"
   ]
  },
  {
   "cell_type": "markdown",
   "metadata": {},
   "source": [
    "Alice is closing out the auction...."
   ]
  },
  {
   "cell_type": "code",
   "execution_count": 14,
   "metadata": {},
   "outputs": [
    {
     "name": "stdout",
     "output_type": "stream",
     "text": [
      "b'assets' [2989, 3559]\n",
      "b'accounts' ['NBIIRJVCVD7ZWZGKCPLVZ5Z6QFUCXDE2GR4KQR5URM2ZBPV7V4VKPJFRZI', 'UCAX3M5HS7PWWLB6HDCM2O7JE4HC3RGBPNWFRP4SYU62ZS5NSS2GFOKIOU']\n",
      "Waiting for confirmation...\n",
      "Transaction 6Q4UNQHWZT2SCTA33JA42V3ZAV4YN34HNMFQ3XTAS7M34W72B64Q confirmed in round 218111.\n"
     ]
    }
   ],
   "source": [
    "sleep(5)\n",
    "\n",
    "close_swap(client, appID, creator, [asset1_id, asset2_id])"
   ]
  },
  {
   "cell_type": "code",
   "execution_count": 15,
   "metadata": {},
   "outputs": [
    {
     "name": "stdout",
     "output_type": "stream",
     "text": [
      "The smart contract now holds the following: {0: 300000, 2989: 0, 3559: 0}\n"
     ]
    }
   ],
   "source": [
    "actualAppBalances = get_balances(client, get_application_address(appID))\n",
    "expectedAppBalances = {0: 0}\n",
    "print(\"The smart contract now holds the following:\", actualAppBalances)\n",
    "\n",
    "#assert actualAppBalances == expectedAppBalances"
   ]
  },
  {
   "cell_type": "code",
   "execution_count": 16,
   "metadata": {},
   "outputs": [
    {
     "name": "stdout",
     "output_type": "stream",
     "text": [
      "Alice's asset1 balance:  49999999847750\n",
      "Alice's asset2 balance:  100000\n",
      "Carla's asset1 balance:  50000000050050\n",
      "Carla's asset2 balance:  49999999900000\n"
     ]
    }
   ],
   "source": [
    "sellerAsset1BalanceAfter = get_balances(client, seller.get_address())[asset1_id]\n",
    "print(\"Alice's asset1 balance: \", sellerAsset1BalanceAfter)\n",
    "\n",
    "sellerAsset2BalanceAfter = get_balances(client, seller.get_address())[asset2_id]\n",
    "print(\"Alice's asset2 balance: \", sellerAsset2BalanceAfter)\n",
    "\n",
    "bidderAsset1BalanceAfter = get_balances(client, bidder.get_address())[asset1_id]\n",
    "print(\"Carla's asset1 balance: \", bidderAsset1BalanceAfter)\n",
    "\n",
    "bidderAsset2BalanceAfter = get_balances(client, bidder.get_address())[asset2_id]\n",
    "print(\"Carla's asset2 balance: \", bidderAsset2BalanceAfter)"
   ]
  }
 ],
 "metadata": {
  "interpreter": {
   "hash": "d8d32039960e27bf02cc380478024df65258985d3f6246b5f3627ebac0bfeee0"
  },
  "kernelspec": {
   "display_name": "Python 3.8.10 64-bit ('venv': venv)",
   "language": "python",
   "name": "python3"
  },
  "language_info": {
   "codemirror_mode": {
    "name": "ipython",
    "version": 3
   },
   "file_extension": ".py",
   "mimetype": "text/x-python",
   "name": "python",
   "nbconvert_exporter": "python",
   "pygments_lexer": "ipython3",
   "version": "3.9.10"
  },
  "orig_nbformat": 4
 },
 "nbformat": 4,
 "nbformat_minor": 2
}
